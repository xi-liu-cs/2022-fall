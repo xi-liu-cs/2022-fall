{
 "cells": [
  {
   "cell_type": "markdown",
   "metadata": {},
   "source": [
    "# Homework 5: Neural Networks (100 points)\n",
    "\n",
    "In this homework, you will be implementing a fully connected neural network and a convolutional neural network using the PyTorch framework."
   ]
  },
  {
   "cell_type": "code",
   "execution_count": 79,
   "metadata": {},
   "outputs": [],
   "source": [
    "import torch\n",
    "import torch.nn as nn\n",
    "import torch.nn.functional as F\n",
    "import torch.optim as optim\n",
    "from torchvision import datasets, transforms\n",
    "import matplotlib.pyplot as plt\n",
    "import numpy"
   ]
  },
  {
   "cell_type": "code",
   "execution_count": 80,
   "metadata": {},
   "outputs": [],
   "source": [
    "device = torch.device(\"cuda:0\" if torch.cuda.is_available() else \"cpu\")"
   ]
  },
  {
   "cell_type": "markdown",
   "metadata": {},
   "source": [
    "## Load the Dataset (MNIST)\n",
    "\n",
    "We can use some PyTorch DataLoader utilities for this. This will download, shuffle, normalize data and arrange it in batches."
   ]
  },
  {
   "cell_type": "code",
   "execution_count": 81,
   "metadata": {},
   "outputs": [],
   "source": [
    "input_size  = 28*28   # images are 28x28 pixels\n",
    "output_size = 10      # there are 10 classes\n",
    "\n",
    "train_dataset = datasets.MNIST('./data', train=True, download=True,\n",
    "                   transform=transforms.Compose([\n",
    "                       transforms.ToTensor(),\n",
    "                       transforms.Normalize((0.1307,), (0.3081,))\n",
    "                   ]))\n",
    "train_loader = torch.utils.data.DataLoader(train_dataset, batch_size=64, shuffle=True)\n",
    "\n",
    "test_dataset = datasets.MNIST('./data', train=False, transform=transforms.Compose([\n",
    "                       transforms.ToTensor(),\n",
    "                       transforms.Normalize((0.1307,), (0.3081,))\n",
    "                   ]))\n",
    "test_loader = torch.utils.data.DataLoader(test_dataset, batch_size=1000, shuffle=True)"
   ]
  },
  {
   "cell_type": "markdown",
   "metadata": {},
   "source": [
    "# Plotting Data\n",
    "\n",
    "You must sample 10 images (one from each class) from the dataset and plot them as a grid with 2 rows of 5 columns each (i.e. of shape `2 x 5`)."
   ]
  },
  {
   "cell_type": "code",
   "execution_count": 82,
   "metadata": {},
   "outputs": [
    {
     "data": {
      "image/png": "[encoded data removed]",
      "text/plain": [
       "<Figure size 640x480 with 10 Axes>"
      ]
     },
     "metadata": {},
     "output_type": "display_data"
    }
   ],
   "source": [
    "# TODO: Plot 10 images with one image from each class in the training set\n",
    "for x, y in train_loader:\n",
    "    for i in range(10):\n",
    "        plt.subplot(2, 5, i + 1)\n",
    "        plt.imshow(x[i].squeeze())"
   ]
  },
  {
   "cell_type": "markdown",
   "metadata": {},
   "source": [
    "## Train a Fully Connected Neural Network on MNIST"
   ]
  },
  {
   "cell_type": "markdown",
   "metadata": {},
   "source": [
    "### Define the network\n",
    "\n",
    "Build a 3-layer fully connected neural network that takes an input of size 28 * 28 = `784`, outputs `10` classes and has a hidden layer of size `(8,8)`. Use ReLU non-linearity and apply a logSoftmax function on the final layer.\n",
    "\n",
    "The model must have the following architecture:\n",
    "\n",
    "```\n",
    "linear_layer(input_size, n_hidden)\n",
    "relu\n",
    "linear_layer(n_hidden, n_hidden)\n",
    "relu\n",
    "linear_layer(n_hidden, output_size)\n",
    "log_softmax\n",
    "```"
   ]
  },
  {
   "cell_type": "code",
   "execution_count": 83,
   "metadata": {},
   "outputs": [],
   "source": [
    "class FCN(nn.Module):\n",
    "    def __init__(self,  input_size, n_hidden, output_size):\n",
    "        super(FCN, self).__init__()\n",
    "        self.flatten = nn.Flatten()\n",
    "        self.linear1 = nn.Linear(input_size, n_hidden)\n",
    "        self.linear2 = nn.Linear(n_hidden, n_hidden)\n",
    "        self.linear3 = nn.Linear(n_hidden, output_size)\n",
    "\n",
    "    def forward(self, x):\n",
    "        x = self.flatten(x)\n",
    "        x = self.linear1(x)\n",
    "        x = F.relu(x)\n",
    "        x = self.linear2(x)\n",
    "        x = F.relu(x)\n",
    "        x = self.linear3(x)\n",
    "        out = F.log_softmax(x, dim = 1)\n",
    "        return out"
   ]
  },
  {
   "cell_type": "markdown",
   "metadata": {},
   "source": [
    "### Define train and test function\n",
    "\n",
    "Complete the function for training and evaluating the model. You must use the cross entropy loss function for training the model.\n",
    "\n",
    "Note:\n",
    "- `permute` is a function passed as an argument to train and test functions.\n",
    "- `permutation_order` is a 1D torch array of size 784 (=28*28). It contains the random order for permutating the pixels in the `28x28` images."
   ]
  },
  {
   "cell_type": "code",
   "execution_count": 84,
   "metadata": {},
   "outputs": [],
   "source": [
    "def train(epoch, model, optimizer, permute_pixels=None, permutation_order=None):\n",
    "    \"\"\"\n",
    "    Train the model for one epoch\n",
    "\n",
    "    Args:\n",
    "        epoch (int): current epoch\n",
    "        model (nn.Module): model to train\n",
    "        optimizer (torch.optim): optimizer to use\n",
    "        permute_pixels (function): function to permute the pixels (default: None)\n",
    "        permutation_order (1D torch array): order of the permutation (default: None)\n",
    "    \"\"\"\n",
    "    model.train()\n",
    "    for batch_idx, (data, target) in enumerate(train_loader):\n",
    "        # send to device\n",
    "        data, target = data.to(device), target.to(device)\n",
    "        \n",
    "        # permute pixels\n",
    "        if permute_pixels is not None:\n",
    "            data = permute_pixels(data, permutation_order)\n",
    "        optimizer.zero_grad()\n",
    "        output = model(data)\n",
    "        loss = F.nll_loss(output, target)\n",
    "        loss.backward()\n",
    "        optimizer.step()\n",
    "        if batch_idx % 100 == 0:\n",
    "            print('Train Epoch: {} [{}/{} ({:.0f}%)]\\tLoss: {:.6f}'.format(\n",
    "                epoch, batch_idx * len(data), len(train_loader.dataset),\n",
    "                100. * batch_idx / len(train_loader), loss.item()))\n",
    "            \n",
    "def test(model, permute_pixels=None, permutation_order=None):\n",
    "    \"\"\"\n",
    "    Test the model\n",
    "\n",
    "    Args:\n",
    "        model (nn.Module): model to test\n",
    "        permute (function): function to permute the pixels (default: None)\n",
    "        permutation_order (1D torch array): order of the permutation (default: None)\n",
    "    \"\"\"\n",
    "    model.eval()\n",
    "    test_loss = 0\n",
    "    correct = 0\n",
    "    for data, target in test_loader:\n",
    "        # send to device\n",
    "        data, target = data.to(device), target.to(device)\n",
    "        \n",
    "        # permute pixels\n",
    "        if permute_pixels is not None:\n",
    "            data = permute_pixels(data, permutation_order)\n",
    "\n",
    "        output = model(data)\n",
    "        test_loss += F.nll_loss(output, target, reduction = 'sum') # sum up batch loss                                                               \n",
    "        pred = output.argmax(dim = 1, keepdim = True)  # get the index of the max log-probability                                                                 \n",
    "        correct += pred.eq(target.view_as(pred)).sum().item()\n",
    "\n",
    "    test_loss /= len(test_loader.dataset)\n",
    "    accuracy = 100. * correct / len(test_loader.dataset)\n",
    "    print('\\nTest set: Average loss: {:.4f}, Accuracy: {}/{} ({:.0f}%)\\n'.format(\n",
    "        test_loss, correct, len(test_loader.dataset),\n",
    "        accuracy))\n",
    "    return accuracy"
   ]
  },
  {
   "cell_type": "markdown",
   "metadata": {},
   "source": [
    "# Write a function for computing the total parameter count of the model"
   ]
  },
  {
   "cell_type": "code",
   "execution_count": 85,
   "metadata": {},
   "outputs": [],
   "source": [
    "# function to count number of parameters\n",
    "def get_n_params(model):\n",
    "    # return number of parameters in model\n",
    "    return sum(p.numel() for p in model.parameters())"
   ]
  },
  {
   "cell_type": "markdown",
   "metadata": {},
   "source": [
    "### Train a small fully-connected network\n",
    "\n",
    "Optimizer : SGD with lr=0.01 and momentum=0.5"
   ]
  },
  {
   "cell_type": "code",
   "execution_count": 86,
   "metadata": {},
   "outputs": [
    {
     "name": "stdout",
     "output_type": "stream",
     "text": [
      "Number of parameters: 6442\n",
      "Train Epoch: 0 [0/60000 (0%)]\tLoss: 2.293240\n",
      "Train Epoch: 0 [6400/60000 (11%)]\tLoss: 2.187470\n",
      "Train Epoch: 0 [12800/60000 (21%)]\tLoss: 1.827733\n",
      "Train Epoch: 0 [19200/60000 (32%)]\tLoss: 1.610108\n",
      "Train Epoch: 0 [25600/60000 (43%)]\tLoss: 1.309860\n",
      "Train Epoch: 0 [32000/60000 (53%)]\tLoss: 0.865002\n",
      "Train Epoch: 0 [38400/60000 (64%)]\tLoss: 0.812873\n",
      "Train Epoch: 0 [44800/60000 (75%)]\tLoss: 1.034682\n",
      "Train Epoch: 0 [51200/60000 (85%)]\tLoss: 0.729931\n",
      "Train Epoch: 0 [57600/60000 (96%)]\tLoss: 0.556864\n",
      "\n",
      "Test set: Average loss: 0.6019, Accuracy: 8193/10000 (82%)\n",
      "\n"
     ]
    }
   ],
   "source": [
    "n_hidden = 8 # number of hidden units\n",
    "\n",
    "model_fcn = FCN(input_size, n_hidden, output_size)\n",
    "model_fcn.to(device)\n",
    "optimizer = torch.optim.SGD(model_fcn.parameters(), lr = 0.01, momentum = 0) # use SGD with learning rate 0.01 and momentum 0.5\n",
    "print('Number of parameters: {}'.format(get_n_params(model_fcn)))\n",
    "\n",
    "test_accuracy = []\n",
    "for epoch in range(0, 1):\n",
    "    train(epoch, model_fcn, optimizer)\n",
    "    test_accuracy.append(test(model_fcn))"
   ]
  },
  {
   "cell_type": "markdown",
   "metadata": {},
   "source": [
    "## Train a Convolutional Neural Network (CNN) on MNIST"
   ]
  },
  {
   "cell_type": "markdown",
   "metadata": {},
   "source": [
    "Define a convolutional neural network with the following architecture to classify the MNIST images.\n",
    "\n",
    "```\n",
    "Conv(\n",
    "    conv2D(input_size, conv_feature, kernel_size=5)\n",
    "    relu()\n",
    "    maxpool2d(kernel_size=2)\n",
    "    conv2d(conv_feature, conv_feature, kernel_size=5)\n",
    "    relu()\n",
    "    maxpool2d(kernel_size=2)\n",
    ")\n",
    "\n",
    "FC(\n",
    "    linear_feature(conv_feature*4*4, fc_feature),\n",
    "    relu(),\n",
    "    linear_feature(fc_feature, output_size),\n",
    "    log_softmax()\n",
    ")\n",
    "```"
   ]
  },
  {
   "cell_type": "code",
   "execution_count": 87,
   "metadata": {},
   "outputs": [],
   "source": [
    "class CNN(nn.Module):\n",
    "    def __init__(self, input_channels, conv_feature, fc_feature, output_size):\n",
    "        super(CNN, self).__init__()\n",
    "        self.flatten = nn.Flatten()\n",
    "        self.conv1 = nn.Conv2d(input_channels, conv_feature, kernel_size = 5)\n",
    "        self.conv2 = nn.Conv2d(conv_feature, conv_feature, kernel_size = 5)\n",
    "        self.max_pool = nn.MaxPool2d(kernel_size = 2)\n",
    "        self.linear1 = nn.Linear(conv_feature * 4 * 4, fc_feature)\n",
    "        self.linear2 = nn.Linear(fc_feature, output_size)\n",
    "        \n",
    "    def forward(self, x):\n",
    "        x = self.conv1(x)\n",
    "        x = F.relu(x)\n",
    "        x = self.max_pool(x)\n",
    "        x = self.conv2(x)\n",
    "        x = F.relu(x)\n",
    "        x = self.max_pool(x)\n",
    "        x = self.flatten(x)\n",
    "        x = self.linear1(x)\n",
    "        x = F.relu(x)\n",
    "        x = self.linear2(x)\n",
    "        out = F.log_softmax(x, dim = 1)\n",
    "        return out"
   ]
  },
  {
   "cell_type": "markdown",
   "metadata": {},
   "source": [
    "### Train a ConvNet with the same number of parameters"
   ]
  },
  {
   "cell_type": "code",
   "execution_count": 88,
   "metadata": {},
   "outputs": [
    {
     "name": "stdout",
     "output_type": "stream",
     "text": [
      "Number of parameters: 6422\n",
      "Train Epoch: 0 [0/60000 (0%)]\tLoss: 2.331953\n",
      "Train Epoch: 0 [6400/60000 (11%)]\tLoss: 1.527762\n",
      "Train Epoch: 0 [12800/60000 (21%)]\tLoss: 0.382399\n",
      "Train Epoch: 0 [19200/60000 (32%)]\tLoss: 0.388709\n",
      "Train Epoch: 0 [25600/60000 (43%)]\tLoss: 0.288825\n",
      "Train Epoch: 0 [32000/60000 (53%)]\tLoss: 0.204233\n",
      "Train Epoch: 0 [38400/60000 (64%)]\tLoss: 0.259573\n",
      "Train Epoch: 0 [44800/60000 (75%)]\tLoss: 0.191819\n",
      "Train Epoch: 0 [51200/60000 (85%)]\tLoss: 0.134861\n",
      "Train Epoch: 0 [57600/60000 (96%)]\tLoss: 0.173418\n",
      "\n",
      "Test set: Average loss: 0.1855, Accuracy: 9415/10000 (94%)\n",
      "\n"
     ]
    }
   ],
   "source": [
    "# Training settings \n",
    "conv_features = 6 # number of feature maps\n",
    "input_channels = 1 # number of input channels\n",
    "fc_features = 50\n",
    "\n",
    "model_cnn = CNN(input_channels, conv_features, fc_features, output_size) # create CNN model\n",
    "model_cnn.to(device)\n",
    "optimizer = torch.optim.SGD(model_cnn.parameters(), lr = 0.01, momentum = 0.5) # use SGD with learning rate 0.01 and momentum 0.5\n",
    "print('Number of parameters: {}'.format(get_n_params(model_cnn)))\n",
    "\n",
    "test_accuracy = []\n",
    "for epoch in range(0, 1):\n",
    "    train(epoch, model_cnn, optimizer)\n",
    "    test_accuracy.append(test(model_cnn))"
   ]
  },
  {
   "cell_type": "markdown",
   "metadata": {},
   "source": [
    "### Question: Why do you think the ConvNet performs better than the fully connected network even though both have the same number of parameters?\n"
   ]
  },
  {
   "cell_type": "markdown",
   "metadata": {},
   "source": [
    "In fully connected neural network, every neuron in a given layer is connected to all neurons in the other layer.<br>\n",
    "Convolutional neural network usually includes convolutional, pooling, and fully connected layer.<br>\n",
    "The convolution layer in ConvNet is specialized to extract information that has locality such as adjacent pixels in an image,<br>\n",
    "since the convolution layer performs convolution operation each time between a small portion of the input matrix with a kernel matrix<br>\n",
    "and store the sum of products into each entry of the output matrix.<br>"
   ]
  },
  {
   "cell_type": "markdown",
   "metadata": {},
   "source": [
    "### What happens if the assumptions are no longer true?"
   ]
  },
  {
   "cell_type": "code",
   "execution_count": 89,
   "metadata": {},
   "outputs": [],
   "source": [
    "# Given a permutation order, permute the pixels of the input image\n",
    "def permute_pixels(data, permutation_order):\n",
    "    \"\"\"\n",
    "    Permute the pixels of the input image\n",
    "    \n",
    "    Args:\n",
    "        data (torch tensor): batch of input images of shape (B, 1, H, W) where B is the batch size, H is the height and W is the width.\n",
    "        permutation_order (1D torch array): order of the permutation\n",
    "    \n",
    "    Returns:\n",
    "        permuted_data (torch tensor): permuted batch of input images of shape (B, 1, H, W)\n",
    "    \"\"\"\n",
    "    new_data = data.clone()\n",
    "    if permutation_order is not None:\n",
    "        for i in range(data.shape[0]):\n",
    "            buf = data[i].view_as(permutation_order)\n",
    "            buf2 = buf[permutation_order]\n",
    "            new_data[i] = buf2.reshape(1, 28, 28)\n",
    "    return new_data"
   ]
  },
  {
   "cell_type": "code",
   "execution_count": 90,
   "metadata": {},
   "outputs": [
    {
     "data": {
      "image/png": "[encoded data removed]",
      "text/plain": [
       "<Figure size 1600x1200 with 20 Axes>"
      ]
     },
     "metadata": {},
     "output_type": "display_data"
    }
   ],
   "source": [
    "permutation_order = torch.randperm(28*28)\n",
    "\n",
    "plt.figure(figsize=(16, 12))\n",
    "for i in range(10):\n",
    "    image, _ = train_loader.dataset.__getitem__(i)\n",
    "    image = image[None, :]\n",
    "    # permute pixels\n",
    "    image_perm = permute_pixels(image.clone(), permutation_order)\n",
    "    plt.subplot(4, 5, i + 1)\n",
    "    plt.imshow(image.squeeze().numpy())\n",
    "    plt.axis('off')\n",
    "    plt.subplot(4, 5, i + 11)\n",
    "    plt.imshow(image_perm.squeeze().numpy())\n",
    "    plt.axis('off')"
   ]
  },
  {
   "cell_type": "markdown",
   "metadata": {},
   "source": [
    "### ConvNet with permuted pixels\n",
    "\n",
    "Train and evaluate a ConvNet with permuted pixels."
   ]
  },
  {
   "cell_type": "code",
   "execution_count": 91,
   "metadata": {},
   "outputs": [
    {
     "name": "stdout",
     "output_type": "stream",
     "text": [
      "Number of parameters: 6422\n",
      "Train Epoch: 0 [0/60000 (0%)]\tLoss: 2.321749\n",
      "Train Epoch: 0 [6400/60000 (11%)]\tLoss: 2.264074\n",
      "Train Epoch: 0 [12800/60000 (21%)]\tLoss: 2.151710\n",
      "Train Epoch: 0 [19200/60000 (32%)]\tLoss: 1.788048\n",
      "Train Epoch: 0 [25600/60000 (43%)]\tLoss: 1.197768\n",
      "Train Epoch: 0 [32000/60000 (53%)]\tLoss: 1.006676\n",
      "Train Epoch: 0 [38400/60000 (64%)]\tLoss: 0.906457\n",
      "Train Epoch: 0 [44800/60000 (75%)]\tLoss: 0.666290\n",
      "Train Epoch: 0 [51200/60000 (85%)]\tLoss: 0.458520\n",
      "Train Epoch: 0 [57600/60000 (96%)]\tLoss: 0.494813\n",
      "\n",
      "Test set: Average loss: 0.5797, Accuracy: 8133/10000 (81%)\n",
      "\n"
     ]
    }
   ],
   "source": [
    "# Training settings \n",
    "conv_features = 6 # number of feature maps\n",
    "fc_features = 50\n",
    "\n",
    "model_cnn = CNN(input_channels, conv_features, fc_features, output_size) # create CNN model\n",
    "model_cnn.to(device)\n",
    "optimizer = torch.optim.SGD(model_cnn.parameters(), lr = 0.01, momentum = 0.5) # use SGD with learning rate 0.01 and momentum 0.5\n",
    "print('Number of parameters: {}'.format(get_n_params(model_cnn)))\n",
    "\n",
    "for epoch in range(0, 1):\n",
    "    train(epoch, model_cnn, optimizer, permute_pixels, permutation_order)\n",
    "    test(model_cnn, permute_pixels, permutation_order)"
   ]
  },
  {
   "cell_type": "markdown",
   "metadata": {},
   "source": [
    "### Fully-Connected with Permuted Pixels\n",
    "\n",
    "Train and evaluate a fully connected network with permuted pixels."
   ]
  },
  {
   "cell_type": "code",
   "execution_count": 92,
   "metadata": {},
   "outputs": [
    {
     "name": "stdout",
     "output_type": "stream",
     "text": [
      "Number of parameters: 6442\n",
      "Train Epoch: 0 [0/60000 (0%)]\tLoss: 2.347832\n",
      "Train Epoch: 0 [6400/60000 (11%)]\tLoss: 1.930412\n",
      "Train Epoch: 0 [12800/60000 (21%)]\tLoss: 1.388640\n",
      "Train Epoch: 0 [19200/60000 (32%)]\tLoss: 0.932932\n",
      "Train Epoch: 0 [25600/60000 (43%)]\tLoss: 0.670085\n",
      "Train Epoch: 0 [32000/60000 (53%)]\tLoss: 0.538468\n",
      "Train Epoch: 0 [38400/60000 (64%)]\tLoss: 0.749481\n",
      "Train Epoch: 0 [44800/60000 (75%)]\tLoss: 0.540626\n",
      "Train Epoch: 0 [51200/60000 (85%)]\tLoss: 0.628124\n",
      "Train Epoch: 0 [57600/60000 (96%)]\tLoss: 0.757884\n",
      "\n",
      "Test set: Average loss: 0.5755, Accuracy: 8183/10000 (82%)\n",
      "\n"
     ]
    }
   ],
   "source": [
    "n_hidden = 8    # number of hidden units\n",
    "\n",
    "model_fnn = FCN(input_size, n_hidden, output_size) # create FCN model\n",
    "model_fnn.to(device)\n",
    "optimizer = torch.optim.SGD(model_fnn.parameters(), lr = 0.01, momentum = 0.5) # use SGD with learning rate 0.01 and momentum 0.5\n",
    "print('Number of parameters: {}'.format(get_n_params(model_fnn)))\n",
    "\n",
    "for epoch in range(0, 1):\n",
    "    train(epoch, model_fnn, optimizer, permute_pixels)\n",
    "    test(model_fnn, permute_pixels)"
   ]
  },
  {
   "cell_type": "markdown",
   "metadata": {},
   "source": [
    "### Question: We observe that the ConvNet's performance drops when we permute the pixels, but the Fully-Connected Network's performance stays the same. Provide an explanation for this."
   ]
  },
  {
   "cell_type": "markdown",
   "metadata": {},
   "source": [
    "When pixels are permuted, the original locality of pixel information is distorted and lost,<br>\n",
    "for example, a certain pixel value might be concentrated inside a small portion of original image with the size of the sliding matrix,\n",
    "but after permutation of the pixels, the pixel that was dominant in that portion of the image scattered into other locations in\n",
    "the image (outside of the boundary defined by the sliding matrix)<br> \n",
    "then the advantage of using the convolution layer drops.<br>\n",
    "Since the convolution layer in ConvNet is specialized to extract information that has locality such as adjacent pixels in an image,<br>\n",
    "and then features are constructed from that neighborhood.<br>"
   ]
  }
 ],
 "metadata": {
  "kernelspec": {
   "display_name": "Python 3.10.7 64-bit",
   "language": "python",
   "name": "python3"
  },
  "language_info": {
   "codemirror_mode": {
    "name": "ipython",
    "version": 3
   },
   "file_extension": ".py",
   "mimetype": "text/x-python",
   "name": "python",
   "nbconvert_exporter": "python",
   "pygments_lexer": "ipython3",
   "version": "3.10.7"
  },
  "orig_nbformat": 4,
  "vscode": {
   "interpreter": {
    "hash": "08db28d5eb0c49dded8418f39112c5182545741fa4757240f7b057799e2856f7"
   }
  }
 },
 "nbformat": 4,
 "nbformat_minor": 2
}
